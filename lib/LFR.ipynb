{
 "cells": [
  {
   "cell_type": "code",
   "execution_count": 1,
   "id": "7cb4f29b",
   "metadata": {},
   "outputs": [],
   "source": [
    "import pandas as pd"
   ]
  },
  {
   "cell_type": "code",
   "execution_count": 2,
   "id": "f2eb57be",
   "metadata": {},
   "outputs": [],
   "source": [
    "df = pd.read_csv('compas-scores-two-years.csv')"
   ]
  },
  {
   "cell_type": "code",
   "execution_count": 3,
   "id": "0df45b8d",
   "metadata": {},
   "outputs": [],
   "source": [
    "#data wrangling \n",
    "df['race'] = df['race'].replace('African-American', 1).replace('Caucasian', 0)\n",
    "\n",
    "df = df[(df['race'] == 0) | (df['race'] == 1)]\n",
    "\n",
    "df['sex'] = df['sex'].replace('Male', 1).replace('Female', 0)\n",
    "\n",
    "df['score_text'] = df['score_text'].replace('High', 1).replace('Medium', 0).replace('Low', -1)\n",
    "\n",
    "df['c_charge_degree'] = df['c_charge_degree'].replace('M',1).replace('F',0)\n",
    "\n",
    "df['days_in_jail'] = (pd.to_datetime(df['c_jail_out'])-pd.to_datetime(df['c_jail_in'])).dt.days\n",
    "\n",
    "X = df[['race','age', 'c_charge_degree', 'score_text', 'sex',\n",
    "       'priors_count', 'days_b_screening_arrest', 'decile_score', 'is_recid']]\n",
    "import numpy as np\n",
    "y = df['two_year_recid']\n",
    "from sklearn.model_selection import train_test_split\n",
    "X_train, X_test, y_train, y_test = train_test_split( df, y, test_size=0.25, random_state=42)\n",
    "\n",
    "X_pos = X_train[X_train['race']==1]\n",
    "X_neg = X_train[X_train['race']==0]\n",
    "\n",
    "y_pos = np.array(y_train[X_train['race']==1])\n",
    "y_neg = np.array(y_train[X_train['race']==0])\n",
    "\n",
    "col_X = ['age', 'c_charge_degree', 'score_text', 'sex',\n",
    "       'priors_count', 'days_b_screening_arrest', 'decile_score', 'is_recid', \n",
    "        'days_in_jail']\n",
    "X_pos = np.array(X_pos[col_X])\n",
    "X_neg = np.array(X_neg[col_X])"
   ]
  },
  {
   "cell_type": "code",
   "execution_count": 4,
   "id": "7ef02d37",
   "metadata": {},
   "outputs": [],
   "source": [
    "#equation 12\n",
    "def distances(X, v, alpha, N, P, k):\n",
    "    dists = np.zeros((N, P))\n",
    "    for i in range(N):\n",
    "        for p in range(P):\n",
    "            for j in range(k):\n",
    "                dists[i, j] += (X[i, p] - v[j, p]) * (X[i, p] - v[j, p]) * alpha[p]\n",
    "    return dists"
   ]
  },
  {
   "cell_type": "code",
   "execution_count": 5,
   "id": "2d7957b3",
   "metadata": {},
   "outputs": [],
   "source": [
    "#equation 3\n",
    "def M_nk(dists, N, k):\n",
    "    M_nk = np.zeros((N, k))\n",
    "    exp = np.zeros((N, k))\n",
    "    denom = np.zeros(N)\n",
    "    for i in range(N):\n",
    "        for j in range(k):\n",
    "            exp[i, j] = np.exp(-1 * dists[i, j])\n",
    "            denom[i] += exp[i, j]\n",
    "        for j in range(k):\n",
    "            if denom[i]:\n",
    "                M_nk[i, j] = exp[i, j] / denom[i]\n",
    "            else:\n",
    "                M_nk[i, j] = exp[i, j] / 1e-6\n",
    "    return M_nk"
   ]
  },
  {
   "cell_type": "code",
   "execution_count": 6,
   "id": "6114ba90",
   "metadata": {},
   "outputs": [],
   "source": [
    "#equation 6\n",
    "def M_k(M_nk, N, k):\n",
    "    M_k = np.zeros(k)\n",
    "    for j in range(k):\n",
    "        for i in range(N):\n",
    "            M_k[j] += M_nk[i, j]\n",
    "        M_k[j] /= N\n",
    "    return M_k"
   ]
  },
  {
   "cell_type": "code",
   "execution_count": 7,
   "id": "d725cd57",
   "metadata": {},
   "outputs": [],
   "source": [
    "# Equation 8&9\n",
    "def Loss_x(X, M_nk, v, N, D, K):\n",
    "    x_n_hat = np.zeros((N, D))\n",
    "    L_x = 0.0\n",
    "    for n in range(N):\n",
    "        for i in range(D):\n",
    "            for k in range(K):\n",
    "                x_n_hat[n, i] += M_nk[n, k] * v[k, i]\n",
    "            L_x += (X[n, i] - x_n_hat[n, i]) * (X[n, i] - x_n_hat[n, i])\n",
    "    return x_n_hat, L_x"
   ]
  },
  {
   "cell_type": "code",
   "execution_count": 8,
   "id": "66333084",
   "metadata": {},
   "outputs": [],
   "source": [
    "#equation 11\n",
    "def Loss_y(M_nk, y, w, N, k):\n",
    "    yhat = np.zeros(N)\n",
    "    L_y = 0.0\n",
    "    for i in range(N):\n",
    "        for j in range(k):\n",
    "            yhat[i] += M_nk[i, j] * w[j]\n",
    "        yhat[i] = 1e-6 if yhat[i] <= 0 else yhat[i]\n",
    "        yhat[i] = 0.999 if yhat[i] >= 1 else yhat[i]\n",
    "        L_y += -1 * y[i] * np.log(yhat[i]) - (1.0 - y[i]) * np.log(1.0 - yhat[i])\n",
    "    return yhat, L_y"
   ]
  },
  {
   "cell_type": "code",
   "execution_count": 9,
   "id": "8331c0b8",
   "metadata": {},
   "outputs": [],
   "source": [
    "#equation 4\n",
    "def LFR(params, X_pos, X_neg, y_pos, y_neg, K, A_z, A_x, A_y, results=0):   \n",
    "    LFR.iters += 1\n",
    "    N_pos, D = X_pos.shape # protected set\n",
    "    N_neg, _ = X_neg.shape # non-protected set\n",
    "    \n",
    "    #print('PARAMS SHAPE: ', params.shape)\n",
    "    alpha_pos = params[:D]\n",
    "    alpha_neg = params[D: 2 * D]\n",
    "    w = params[2 * D: (2 * D) + K]\n",
    "    #print(alpha_pos.shape, alpha_neg.shape, w.shape)\n",
    "    v = np.matrix(params[(2 * D) + K:]).reshape((K, D)) # set of prototypes\n",
    "\n",
    "    dists_pos = distances(X_pos, v, alpha_pos, N_pos, D, K)\n",
    "    dists_neg = distances(X_neg, v, alpha_neg, N_neg, D, K)\n",
    "\n",
    "    M_nk_pos = M_nk(dists_pos, N_pos, K)\n",
    "    M_nk_neg = M_nk(dists_neg, N_neg, K)\n",
    "\n",
    "    M_k_pos = M_k(M_nk_pos, N_pos, K)\n",
    "    M_k_neg = M_k(M_nk_neg, N_neg, K)\n",
    "\n",
    "    L_z = 0.0\n",
    "    for k in range(K):\n",
    "        L_z += abs(M_k_pos[k] - M_k_neg[k]) # Equation 7\n",
    "\n",
    "    x_n_hat_pos, L_x_pos = Loss_x(X_pos, M_nk_pos, v, N_pos, D, K)\n",
    "    x_n_hat_neg, L_x_neg = Loss_x(X_neg, M_nk_neg, v, N_neg, D, K)\n",
    "    L_x = L_x_pos + L_x_neg\n",
    "\n",
    "    yhat_pos, L_y_pos = Loss_y(M_nk_pos, y_pos, w, N_pos, K)\n",
    "    yhat_neg, L_y_neg = Loss_y(M_nk_neg, y_neg, w, N_neg, K)\n",
    "    L_y = L_y_pos + L_y_neg\n",
    "\n",
    "    criterion = A_x * L_x + A_y * L_y + A_z * L_z\n",
    "\n",
    "    if results != 0:\n",
    "        return yhat_pos, yhat_neg, M_nk_pos, M_nk_neg\n",
    "    else:\n",
    "        return criterion\n",
    "LFR.iters = 0"
   ]
  },
  {
   "cell_type": "code",
   "execution_count": 10,
   "id": "afd0a742",
   "metadata": {},
   "outputs": [],
   "source": [
    "import scipy\n",
    "from scipy.optimize import minimize\n",
    "from numpy import linalg as LA\n",
    "D = X_pos.shape[1]\n",
    "K = 5\n",
    "alpha_pos = np.random.uniform(size=D)\n",
    "alpha_neg = np.random.uniform(size=D)\n",
    "w = np.random.uniform(size=K) \n",
    "v = np.random.uniform(size=K*D)\n",
    "params = alpha_pos\n",
    "for item in [alpha_neg, w, v]:\n",
    "    params = np.append(params, item.flatten())\n",
    "res = scipy.optimize.minimize(LFR, \n",
    "                        x0=params, \n",
    "                        args=(X_pos, X_neg, y_pos, y_neg, K, 1000, 1e-4, 0.1),\n",
    "                        method='SLSQP')"
   ]
  },
  {
   "cell_type": "code",
   "execution_count": 11,
   "id": "63624345",
   "metadata": {},
   "outputs": [],
   "source": [
    "D = X_pos.shape[1]\n",
    "K = 5\n",
    "alpha_pos = params[:D]\n",
    "alpha_neg = params[D: 2*D]\n",
    "w = params[2*D: (2*D) + K]\n",
    "v = np.array(params[(2*D) + K: ]).reshape((K,D))"
   ]
  },
  {
   "cell_type": "code",
   "execution_count": 12,
   "id": "34035a4a",
   "metadata": {},
   "outputs": [
    {
     "data": {
      "text/plain": [
       "(0.23289902280130292, 0.6277056277056277)"
      ]
     },
     "execution_count": 12,
     "metadata": {},
     "output_type": "execute_result"
    }
   ],
   "source": [
    "##calculate parity P(Y_hat = 1 | S = 0) = P(Y_hat = 1 | S = 1)\n",
    "\n",
    "#1) segment test dataset into sensitive and non sensitive\n",
    "X_pos = X_test[X_test['race']==1]\n",
    "X_neg = X_test[X_test['race']==0]\n",
    "\n",
    "y_pos = np.array(y_test[X_test['race']==1])\n",
    "y_neg = np.array(y_test[X_test['race']==0])\n",
    "\n",
    "col_X = ['age', 'c_charge_degree', 'score_text', 'sex',\n",
    "       'priors_count', 'days_b_screening_arrest', \n",
    "       'decile_score', 'days_in_jail', 'is_recid']\n",
    "\n",
    "X_pos = np.array(X_pos[col_X])\n",
    "X_neg = np.array(X_neg[col_X])\n",
    "\n",
    "#2) calculate Y_hat for neg & pos\n",
    "#recover M_nk\n",
    "N_pos, D = X_pos.shape # protected set\n",
    "N_neg, _ = X_neg.shape # non-protected set\n",
    "\n",
    "\n",
    "dists_pos = distances(X_pos, v, alpha_pos, N_pos, D, K)\n",
    "dists_neg = distances(X_neg, v, alpha_neg, N_neg, D, K)\n",
    "\n",
    "M_nk_pos = M_nk(dists_pos, N_pos, K)\n",
    "M_nk_neg = M_nk(dists_neg, N_neg, K)\n",
    "\n",
    "yhat_pos, lypos = Loss_y(M_nk_pos, y_pos, w, N_pos, K)\n",
    "yhat_neg, lyneg = Loss_y(M_nk_neg, y_neg, w, N_neg, K)\n",
    "\n",
    "#3) find y_hat = 1 for both neg and positive\n",
    "\"\"\"FINDING PARITY\"\"\"\n",
    "(len(yhat_neg[yhat_neg > 0.5])/len(yhat_neg), #for non-sensitive attribute #0.584070796460177\n",
    "  len(yhat_pos[yhat_pos > 0.5])/len(yhat_pos)) #for sensitive attribute #0.6409774436090225"
   ]
  },
  {
   "cell_type": "code",
   "execution_count": 13,
   "id": "381993f5",
   "metadata": {},
   "outputs": [
    {
     "data": {
      "text/plain": [
       "(0.4253246753246753, 0.5586319218241043)"
      ]
     },
     "execution_count": 13,
     "metadata": {},
     "output_type": "execute_result"
    }
   ],
   "source": [
    "\"\"\"evaluation metric 4: calibration\"\"\"\n",
    "\n",
    "calibration_pos = len(yhat_pos[((yhat_pos > 0.5) & (y_pos > 0.5)) |\n",
    "    ((yhat_pos <= 0.5) & (y_pos <= 0.5))])/len(yhat_pos)\n",
    "calibration_neg = len(yhat_neg[((yhat_neg > 0.5) & (y_neg > 0.5)) |\n",
    "    ((yhat_neg <= 0.5) & (y_neg <= 0.5))])/len(yhat_neg)\n",
    "calibration_pos, calibration_neg   "
   ]
  },
  {
   "cell_type": "code",
   "execution_count": null,
   "id": "6834289f",
   "metadata": {},
   "outputs": [],
   "source": []
  }
 ],
 "metadata": {
  "kernelspec": {
   "display_name": "Python 3 (ipykernel)",
   "language": "python",
   "name": "python3"
  },
  "language_info": {
   "codemirror_mode": {
    "name": "ipython",
    "version": 3
   },
   "file_extension": ".py",
   "mimetype": "text/x-python",
   "name": "python",
   "nbconvert_exporter": "python",
   "pygments_lexer": "ipython3",
   "version": "3.9.12"
  }
 },
 "nbformat": 4,
 "nbformat_minor": 5
}
